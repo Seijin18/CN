{
  "nbformat": 4,
  "nbformat_minor": 0,
  "metadata": {
    "colab": {
      "provenance": []
    },
    "kernelspec": {
      "name": "python3",
      "display_name": "Python 3"
    },
    "language_info": {
      "name": "python"
    }
  },
  "cells": [
    {
      "cell_type": "markdown",
      "source": [
        "1\n"
      ],
      "metadata": {
        "id": "iXzvv_gG2uRY"
      }
    },
    {
      "cell_type": "code",
      "execution_count": 30,
      "metadata": {
        "colab": {
          "base_uri": "https://localhost:8080/"
        },
        "id": "zQBKLQacufcV",
        "outputId": "2e997d61-9858-4cf5-d897-4f182badc2d0"
      },
      "outputs": [
        {
          "output_type": "stream",
          "name": "stdout",
          "text": [
            "14.5838477366255\n",
            "ERRO :  2.0838477366255006\n"
          ]
        }
      ],
      "source": [
        "def calculo(x):\n",
        "  return ((x**4) - (3*x**3) + (2*x**2) - 3)\n",
        "\n",
        "def simpson(n,xInicial,xFinal):\n",
        "  deltaX = (xFinal-xInicial)/n\n",
        "  soma = 0\n",
        "  x0 = xInicial\n",
        "  x2 = xInicial + 2*deltaX\n",
        "\n",
        "  while x2<= xFinal:\n",
        "    soma  = calculo(x0) + 4*calculo(x0+deltaX) + calculo(x2) + soma\n",
        "    x0 = x2\n",
        "    x2 = x2 + 2*deltaX\n",
        "  return soma*deltaX/3\n",
        "\n",
        "\n",
        "resultado = simpson(30,-2,3)\n",
        "print(resultado)\n",
        "print(\"ERRO : \",resultado - (175/14))\n"
      ]
    },
    {
      "cell_type": "markdown",
      "source": [
        "3"
      ],
      "metadata": {
        "id": "dQm4uJr82ygE"
      }
    },
    {
      "cell_type": "code",
      "source": [
        "def calculo(x):\n",
        "  return ((2*x**5)+(5*x**3)-(3*x)+1)\n",
        "\n",
        "def simpson(n,xInicial,xFinal):\n",
        "  deltaX = (xFinal-xInicial)/n\n",
        "  soma = 0\n",
        "  x0 = xInicial\n",
        "  x2 = xInicial + 2*deltaX\n",
        "\n",
        "  while x2<= xFinal:\n",
        "    soma  = calculo(x0) + 4*calculo(x0+deltaX) + calculo(x2) + soma\n",
        "    x0 = x2\n",
        "    x2 = x2 + 2*deltaX\n",
        "  return soma*deltaX/3\n",
        "\n",
        "\n",
        "resultado = simpson(30,1,2)\n",
        "print(resultado)\n"
      ],
      "metadata": {
        "colab": {
          "base_uri": "https://localhost:8080/"
        },
        "id": "vfXCtZMj1Q5L",
        "outputId": "9d2e864c-cab7-4aff-c0f0-f212af1013e4"
      },
      "execution_count": 26,
      "outputs": [
        {
          "output_type": "stream",
          "name": "stdout",
          "text": [
            "36.250002469135794\n"
          ]
        }
      ]
    },
    {
      "cell_type": "markdown",
      "source": [
        "4"
      ],
      "metadata": {
        "id": "B8bDpYel4nAX"
      }
    },
    {
      "cell_type": "code",
      "source": [
        "import math\n",
        "\n",
        "def calculo(x):\n",
        "  return(1/(4+math.sin(20*x)))\n",
        "\n",
        "def simpson(n,xInicial,xFinal):\n",
        "  deltaX = (xFinal-xInicial)/n\n",
        "  soma = 0\n",
        "  x0 = xInicial\n",
        "  x2 = xInicial + 2*deltaX\n",
        "\n",
        "  while x2<= xFinal:\n",
        "    soma  = calculo(x0) + 4*calculo(x0+deltaX) + calculo(x2) + soma\n",
        "    x0 = x2\n",
        "    x2 = x2 + 2*deltaX\n",
        "  return soma*deltaX/3\n",
        "\n",
        "\n",
        "resultado = simpson(10,0,math.pi)\n",
        "print(resultado)\n",
        "resultado = simpson(20,0,math.pi)\n",
        "print(resultado)\n",
        "resultado = simpson(30,0,math.pi)\n",
        "print(resultado)"
      ],
      "metadata": {
        "colab": {
          "base_uri": "https://localhost:8080/"
        },
        "id": "t1XKS2hp4mjc",
        "outputId": "49967c48-f9bf-49a3-843b-bf0aea70ff52"
      },
      "execution_count": 28,
      "outputs": [
        {
          "output_type": "stream",
          "name": "stdout",
          "text": [
            "0.7853981633974486\n",
            "0.785398163397448\n",
            "0.8111489228531022\n"
          ]
        }
      ]
    }
  ]
}