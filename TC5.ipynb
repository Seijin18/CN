{
 "cells": [
  {
   "cell_type": "markdown",
   "metadata": {},
   "source": [
    "Questão 1"
   ]
  },
  {
   "cell_type": "code",
   "execution_count": 1,
   "metadata": {},
   "outputs": [
    {
     "name": "stdout",
     "output_type": "stream",
     "text": [
      "1.4888637335882209\n"
     ]
    }
   ],
   "source": [
    "import math\n",
    "# Método de Euler para y' = y e y(0) = 1\n",
    "\n",
    "# Condições iniciais\n",
    "t0 = 0\n",
    "y0 = 1\n",
    "h = 0.01\n",
    "\n",
    "t = 0.4\n",
    "\n",
    "#Equação diferencial\n",
    "def f(t, y):\n",
    "    return y\n",
    "\n",
    "# Método de Euler\n",
    "y = y0\n",
    "for i in range(int((t-t0)/h)):\n",
    "    y = y + h * f(t0 + i*h, y)\n",
    "\n",
    "print(y)"
   ]
  },
  {
   "cell_type": "markdown",
   "metadata": {},
   "source": [
    "Questão 2"
   ]
  },
  {
   "cell_type": "code",
   "execution_count": 14,
   "metadata": {},
   "outputs": [
    {
     "name": "stdout",
     "output_type": "stream",
     "text": [
      "0.6400000000000002\n"
     ]
    }
   ],
   "source": [
    "# Condições iniciais\n",
    "x0 = 0\n",
    "y0 = 0\n",
    "h = 0.2\n",
    "x = 1\n",
    "\n",
    "# Equação diferencial\n",
    "def f(x, y):\n",
    "    return 4 * x**3\n",
    "\n",
    "# Método de Euler\n",
    "y = y0\n",
    "for i in range(int((x - x0)/h)):\n",
    "    y = y + h * f(x0 + i*h, y)\n",
    "\n",
    "print(y)\n"
   ]
  },
  {
   "cell_type": "markdown",
   "metadata": {},
   "source": [
    "Questão 3"
   ]
  },
  {
   "cell_type": "code",
   "execution_count": 25,
   "metadata": {},
   "outputs": [
    {
     "name": "stdout",
     "output_type": "stream",
     "text": [
      "Tempo mínimo: 4.10 Minutos\n"
     ]
    }
   ],
   "source": [
    "# Condições iniciais\n",
    "T0 = 293\n",
    "Tc = 313\n",
    "b = 0.001\n",
    "h = 1\n",
    "t = 0\n",
    "T = T0\n",
    "\n",
    "# Equação diferencial\n",
    "def f(T):\n",
    "    return b * (Tc - T)\n",
    "\n",
    "# Método de Euler\n",
    "while T < 0.95 * Tc:\n",
    "    T = T + h * f(T)\n",
    "    t = t + h\n",
    "\n",
    "# Conversão para minutos\n",
    "t = t / 60\n",
    "\n",
    "print(\"Tempo mínimo: {:.2f} Minutos\".format(t))\n"
   ]
  },
  {
   "cell_type": "markdown",
   "metadata": {},
   "source": [
    "Questão 4"
   ]
  },
  {
   "cell_type": "code",
   "execution_count": 26,
   "metadata": {},
   "outputs": [
    {
     "name": "stdout",
     "output_type": "stream",
     "text": [
      "Tempo necessário para reduzir a massa pela metade: 0.27 minutos\n"
     ]
    }
   ],
   "source": [
    "# Condições iniciais\n",
    "m0 = 2\n",
    "p = 5e-2\n",
    "h = 1\n",
    "m = m0\n",
    "\n",
    "# Equação diferencial\n",
    "def f(m):\n",
    "    return -p * m**(2/3)\n",
    "\n",
    "# Método de Euler\n",
    "t = 0\n",
    "while m > m0/2:\n",
    "    m = m + h * f(m)\n",
    "    t = t + h\n",
    "\n",
    "# Conversão para minutos\n",
    "t = t / 60\n",
    "\n",
    "print(\"Tempo necessário para reduzir a massa pela metade: {:.2f} minutos\".format(t))"
   ]
  },
  {
   "cell_type": "markdown",
   "metadata": {},
   "source": [
    "Questão 5.1"
   ]
  },
  {
   "cell_type": "code",
   "execution_count": 31,
   "metadata": {},
   "outputs": [
    {
     "name": "stdout",
     "output_type": "stream",
     "text": [
      "Saturação não ocorre\n",
      "90% da quantidade é alcançada em 0.04 minutos\n"
     ]
    }
   ],
   "source": [
    "import math\n",
    "\n",
    "# Condições iniciais\n",
    "y0 = 100\n",
    "L = 1000\n",
    "a = 1\n",
    "h = 0.05\n",
    "y = y0\n",
    "t = 0\n",
    "saturacao = False\n",
    "\n",
    "# Equação diferencial\n",
    "def f(y):\n",
    "    return a * math.sqrt(y) * (L - y) / math.sqrt(abs(L - y))\n",
    "\n",
    "# Método de Euler\n",
    "while y <= L:\n",
    "    y_old = y\n",
    "    y = y + h * f(y)\n",
    "    t = t + h\n",
    "    if y == y_old:\n",
    "        saturacao = True\n",
    "        break\n",
    "\n",
    "# Conversão para minutos\n",
    "t = t / 60\n",
    "\n",
    "# Verifica se a saturação ocorreu\n",
    "if saturacao:\n",
    "    print(\"Saturação ocorre em {:.2f} minutos\".format(t))\n",
    "else:\n",
    "    print(\"Saturação não ocorre\")\n",
    "\n",
    "# Verifica se 90% da quantidade é alcançada\n",
    "if y >= 0.9 * L:\n",
    "    print(\"90% da quantidade é alcançada em {:.2f} minutos\".format(t))\n",
    "else:\n",
    "    print(\"90% da quantidade não é alcançada\")\n"
   ]
  },
  {
   "cell_type": "markdown",
   "metadata": {},
   "source": [
    "5.2\n",
    "a) \n",
    "A equação diferencial dada é dC/dt=−kC. Esta é uma EDO separável, o que significa que podemos rearranjá-la e integrar ambos os lados.\n",
    "dC/C=−kdt\n",
    "\n",
    "Integrando ambos os lados:\n",
    "∫dC/C=−k∫dt\n",
    "ln⁡∣C∣=−kt+C1​\n",
    "\n",
    "Tomando o exponencial de ambos os lados:\n",
    "∣C∣=(e^C1)*e^−kt\n",
    "\n",
    "A constante de integração C1C1​ pode ser absorvida na constante eC1eC1​, então a solução geral é:\n",
    "C(t)=Ce^−kt\n",
    "\n",
    "\n",
    "Agora, para determinar k usando as informações do item b), sabemos que o corpo elimina metade do remédio em 4 horas, então podemos usar C(4)=(1/2)* C0 ​, onde C0​ é a concentração inicial. Substituindo isso na equação, temos:\n",
    "(1/2)*C0=Ce^−4k\n",
    "\n",
    "Cancelando C:\n",
    "1/2=e^−4k\n",
    "\n",
    "Tomando o logaritmo natural dos dois lados:\n",
    "ln⁡(12)=−4k\n",
    "k=ln⁡(2)/4\n",
    "\n"
   ]
  },
  {
   "cell_type": "code",
   "execution_count": 1,
   "metadata": {},
   "outputs": [
    {
     "name": "stdout",
     "output_type": "stream",
     "text": [
      "Tempo para eliminar 90% do medicamento: 10.00 horas\n"
     ]
    }
   ],
   "source": [
    "import numpy as np\n",
    "\n",
    "# Definir a equação diferencial\n",
    "def equacao_diferencial(t, C, k):\n",
    "    return -k * C\n",
    "\n",
    "# Método de Euler para resolver a equação diferencial\n",
    "def metodo_euler(funcao, C0, t0, tn, h, k):\n",
    "    t = np.arange(t0, tn + h, h)\n",
    "    C = [C0]\n",
    "\n",
    "    for i in range(1, len(t)):\n",
    "        C_atual = C[-1]\n",
    "        t_atual = t[i - 1]\n",
    "        C_prox = C_atual + h * funcao(t_atual, C_atual, k)\n",
    "        C.append(C_prox)\n",
    "\n",
    "    return t, C\n",
    "\n",
    "# Encontrar k usando as informações dadas\n",
    "k = np.log(2) / 4\n",
    "\n",
    "# Condições iniciais\n",
    "C0 = 1.0  # concentração inicial\n",
    "t0 = 0\n",
    "tn = 10  # tempo máximo\n",
    "h = 0.1  # tamanho do passo\n",
    "\n",
    "# Resolver a equação diferencial usando o método de Euler\n",
    "t, C = metodo_euler(equacao_diferencial, C0, t0, tn, h, k)\n",
    "\n",
    "# Encontrar o tempo necessário para eliminar 90% do medicamento (10% do valor inicial)\n",
    "limiar = 0.1 * C0\n",
    "tempo_elim_90_percent = np.interp(limiar, np.flip(C), np.flip(t))\n",
    "\n",
    "print(f\"Tempo para eliminar 90% do medicamento: {tempo_elim_90_percent:.2f} horas\")\n"
   ]
  },
  {
   "cell_type": "markdown",
   "metadata": {},
   "source": [
    "questão 6"
   ]
  },
  {
   "cell_type": "code",
   "execution_count": 2,
   "metadata": {},
   "outputs": [
    {
     "name": "stdout",
     "output_type": "stream",
     "text": [
      "80295 infectados\n"
     ]
    }
   ],
   "source": [
    "m = 100000\n",
    "K = 2*10**-6\n",
    "h = 1\n",
    "y0 = 1000\n",
    "\n",
    "def f(y):\n",
    "    return K*(m-y)*y\n",
    "\n",
    "def k1(y):\n",
    "    return h*f(y)\n",
    "\n",
    "def k2(y,k1):\n",
    "    return h*f(y+k1/2)\n",
    "\n",
    "def k3(y,k2):\n",
    "    return h*f(y+k2/2)\n",
    "\n",
    "def k4(y,k3):\n",
    "    return h*f(y+k3)\n",
    "\n",
    "def runge(y):\n",
    "    i = 0\n",
    "    while i < 30:\n",
    "        a = k1(y)\n",
    "        b = k2(y,a)\n",
    "        c = k3(y,b)\n",
    "        d = k4(y,c)\n",
    "        y = y + (1/6)*(a+2*b+2*c+d)\n",
    "        i = i + h\n",
    "        if y > m:\n",
    "            y = m\n",
    "        \n",
    "    return y\n",
    "\n",
    "print(int(runge(y0)),\"infectados\")"
   ]
  },
  {
   "cell_type": "markdown",
   "metadata": {},
   "source": [
    "Questão 7"
   ]
  },
  {
   "cell_type": "code",
   "execution_count": 7,
   "metadata": {},
   "outputs": [
    {
     "name": "stdout",
     "output_type": "stream",
     "text": [
      "População após 10 anos: 1024.23\n"
     ]
    }
   ],
   "source": [
    "def runge_kutta(p0, t0, t_end, k0, k1, N):\n",
    "    h = (t_end - t0) / N\n",
    "    p = p0\n",
    "    t = t0\n",
    "\n",
    "    for _ in range(N):\n",
    "        k1_temp = h * (k0 + k1 * p)\n",
    "        k2 = h * (k0 + k1 * (p + k1/2))\n",
    "        k3 = h * (k0 + k1 * (p + k2/2))\n",
    "        k4 = h * (k0 + k1 * (p + k3/2))\n",
    "\n",
    "        p = p + (k1_temp + 2*k2 + 2*k3 + k4) / 6\n",
    "        t = t + h\n",
    "\n",
    "    return p\n",
    "\n",
    "p0 = 1000\n",
    "t0 = 0\n",
    "t_end = 10\n",
    "k0 = 0.4\n",
    "k1 = 0.002\n",
    "N = 10\n",
    "\n",
    "population_after_10_years = runge_kutta(p0, t0, t_end, k0, k1, N)\n",
    "print(\"População após 10 anos: {:.2f}\". format(population_after_10_years))"
   ]
  }
 ],
 "metadata": {
  "kernelspec": {
   "display_name": "Python 3",
   "language": "python",
   "name": "python3"
  },
  "language_info": {
   "codemirror_mode": {
    "name": "ipython",
    "version": 3
   },
   "file_extension": ".py",
   "mimetype": "text/x-python",
   "name": "python",
   "nbconvert_exporter": "python",
   "pygments_lexer": "ipython3",
   "version": "3.10.7"
  }
 },
 "nbformat": 4,
 "nbformat_minor": 2
}
