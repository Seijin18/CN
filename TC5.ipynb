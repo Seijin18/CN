{
 "cells": [
  {
   "cell_type": "markdown",
   "metadata": {},
   "source": [
    "Questão 1"
   ]
  },
  {
   "cell_type": "code",
   "execution_count": 1,
   "metadata": {},
   "outputs": [
    {
     "name": "stdout",
     "output_type": "stream",
     "text": [
      "1.4888637335882209\n"
     ]
    }
   ],
   "source": [
    "import math\n",
    "# Método de Euler para y' = y e y(0) = 1\n",
    "\n",
    "# Condições iniciais\n",
    "t0 = 0\n",
    "y0 = 1\n",
    "h = 0.01\n",
    "\n",
    "t = 0.4\n",
    "\n",
    "#Equação diferencial\n",
    "def f(t, y):\n",
    "    return y\n",
    "\n",
    "# Método de Euler\n",
    "y = y0\n",
    "for i in range(int((t-t0)/h)):\n",
    "    y = y + h * f(t0 + i*h, y)\n",
    "\n",
    "print(y)"
   ]
  },
  {
   "cell_type": "markdown",
   "metadata": {},
   "source": [
    "Questão 2"
   ]
  },
  {
   "cell_type": "code",
   "execution_count": 14,
   "metadata": {},
   "outputs": [
    {
     "name": "stdout",
     "output_type": "stream",
     "text": [
      "0.6400000000000002\n"
     ]
    }
   ],
   "source": [
    "# Condições iniciais\n",
    "x0 = 0\n",
    "y0 = 0\n",
    "h = 0.2\n",
    "x = 1\n",
    "\n",
    "# Equação diferencial\n",
    "def f(x, y):\n",
    "    return 4 * x**3\n",
    "\n",
    "# Método de Euler\n",
    "y = y0\n",
    "for i in range(int((x - x0)/h)):\n",
    "    y = y + h * f(x0 + i*h, y)\n",
    "\n",
    "print(y)\n"
   ]
  },
  {
   "cell_type": "markdown",
   "metadata": {},
   "source": [
    "Questão 3"
   ]
  },
  {
   "cell_type": "code",
   "execution_count": 25,
   "metadata": {},
   "outputs": [
    {
     "name": "stdout",
     "output_type": "stream",
     "text": [
      "Tempo mínimo: 4.10 Minutos\n"
     ]
    }
   ],
   "source": [
    "# Condições iniciais\n",
    "T0 = 293\n",
    "Tc = 313\n",
    "b = 0.001\n",
    "h = 1\n",
    "t = 0\n",
    "T = T0\n",
    "\n",
    "# Equação diferencial\n",
    "def f(T):\n",
    "    return b * (Tc - T)\n",
    "\n",
    "# Método de Euler\n",
    "while T < 0.95 * Tc:\n",
    "    T = T + h * f(T)\n",
    "    t = t + h\n",
    "\n",
    "# Conversão para minutos\n",
    "t = t / 60\n",
    "\n",
    "print(\"Tempo mínimo: {:.2f} Minutos\".format(t))\n"
   ]
  },
  {
   "cell_type": "markdown",
   "metadata": {},
   "source": [
    "Questão 4"
   ]
  },
  {
   "cell_type": "code",
   "execution_count": 26,
   "metadata": {},
   "outputs": [
    {
     "name": "stdout",
     "output_type": "stream",
     "text": [
      "Tempo necessário para reduzir a massa pela metade: 0.27 minutos\n"
     ]
    }
   ],
   "source": [
    "# Condições iniciais\n",
    "m0 = 2\n",
    "p = 5e-2\n",
    "h = 1\n",
    "m = m0\n",
    "\n",
    "# Equação diferencial\n",
    "def f(m):\n",
    "    return -p * m**(2/3)\n",
    "\n",
    "# Método de Euler\n",
    "t = 0\n",
    "while m > m0/2:\n",
    "    m = m + h * f(m)\n",
    "    t = t + h\n",
    "\n",
    "# Conversão para minutos\n",
    "t = t / 60\n",
    "\n",
    "print(\"Tempo necessário para reduzir a massa pela metade: {:.2f} minutos\".format(t))"
   ]
  },
  {
   "cell_type": "markdown",
   "metadata": {},
   "source": [
    "Questão 5.1"
   ]
  },
  {
   "cell_type": "code",
   "execution_count": 31,
   "metadata": {},
   "outputs": [
    {
     "name": "stdout",
     "output_type": "stream",
     "text": [
      "Saturação não ocorre\n",
      "90% da quantidade é alcançada em 0.04 minutos\n"
     ]
    }
   ],
   "source": [
    "import math\n",
    "\n",
    "# Condições iniciais\n",
    "y0 = 100\n",
    "L = 1000\n",
    "a = 1\n",
    "h = 0.05\n",
    "y = y0\n",
    "t = 0\n",
    "saturacao = False\n",
    "\n",
    "# Equação diferencial\n",
    "def f(y):\n",
    "    return a * math.sqrt(y) * (L - y) / math.sqrt(abs(L - y))\n",
    "\n",
    "# Método de Euler\n",
    "while y <= L:\n",
    "    y_old = y\n",
    "    y = y + h * f(y)\n",
    "    t = t + h\n",
    "    if y == y_old:\n",
    "        saturacao = True\n",
    "        break\n",
    "\n",
    "# Conversão para minutos\n",
    "t = t / 60\n",
    "\n",
    "# Verifica se a saturação ocorreu\n",
    "if saturacao:\n",
    "    print(\"Saturação ocorre em {:.2f} minutos\".format(t))\n",
    "else:\n",
    "    print(\"Saturação não ocorre\")\n",
    "\n",
    "# Verifica se 90% da quantidade é alcançada\n",
    "if y >= 0.9 * L:\n",
    "    print(\"90% da quantidade é alcançada em {:.2f} minutos\".format(t))\n",
    "else:\n",
    "    print(\"90% da quantidade não é alcançada\")\n"
   ]
  },
  {
   "cell_type": "markdown",
   "metadata": {},
   "source": [
    "Questão 7"
   ]
  },
  {
   "cell_type": "code",
   "execution_count": 7,
   "metadata": {},
   "outputs": [
    {
     "name": "stdout",
     "output_type": "stream",
     "text": [
      "População após 10 anos: 1024.23\n"
     ]
    }
   ],
   "source": [
    "def runge_kutta(p0, t0, t_end, k0, k1, N):\n",
    "    h = (t_end - t0) / N\n",
    "    p = p0\n",
    "    t = t0\n",
    "\n",
    "    for _ in range(N):\n",
    "        k1_temp = h * (k0 + k1 * p)\n",
    "        k2 = h * (k0 + k1 * (p + k1/2))\n",
    "        k3 = h * (k0 + k1 * (p + k2/2))\n",
    "        k4 = h * (k0 + k1 * (p + k3/2))\n",
    "\n",
    "        p = p + (k1_temp + 2*k2 + 2*k3 + k4) / 6\n",
    "        t = t + h\n",
    "\n",
    "    return p\n",
    "\n",
    "p0 = 1000\n",
    "t0 = 0\n",
    "t_end = 10\n",
    "k0 = 0.4\n",
    "k1 = 0.002\n",
    "N = 10\n",
    "\n",
    "population_after_10_years = runge_kutta(p0, t0, t_end, k0, k1, N)\n",
    "print(\"População após 10 anos: {:.2f}\". format(population_after_10_years))"
   ]
  }
 ],
 "metadata": {
  "kernelspec": {
   "display_name": "Python 3",
   "language": "python",
   "name": "python3"
  },
  "language_info": {
   "codemirror_mode": {
    "name": "ipython",
    "version": 3
   },
   "file_extension": ".py",
   "mimetype": "text/x-python",
   "name": "python",
   "nbconvert_exporter": "python",
   "pygments_lexer": "ipython3",
   "version": "3.11.6"
  }
 },
 "nbformat": 4,
 "nbformat_minor": 2
}
